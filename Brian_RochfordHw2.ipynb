{
 "cells": [
  {
   "cell_type": "code",
   "execution_count": 1,
   "metadata": {},
   "outputs": [],
   "source": [
    "import pyforest "
   ]
  },
  {
   "cell_type": "code",
   "execution_count": 48,
   "metadata": {},
   "outputs": [
    {
     "name": "stdout",
     "output_type": "stream",
     "text": [
      "Collecting gensim\n",
      "  Downloading gensim-4.1.2-cp37-cp37m-macosx_10_9_x86_64.whl (24.0 MB)\n",
      "\u001b[K     |████████████████████████████████| 24.0 MB 118 kB/s ta 0:00:013    |████████▏                       | 6.1 MB 194 kB/s eta 0:01:32     |████████████████████████▌       | 18.4 MB 23 kB/s eta 0:03:57     |████████████████████████████▍   | 21.4 MB 82 kB/s eta 0:00:33     |█████████████████████████████   | 21.8 MB 59 kB/s eta 0:00:38\n",
      "\u001b[?25hRequirement already satisfied: scipy>=0.18.1 in /opt/anaconda3/lib/python3.7/site-packages (from gensim) (1.4.1)\n",
      "\u001b[33mWARNING: Retrying (Retry(total=4, connect=None, read=None, redirect=None, status=None)) after connection broken by 'ReadTimeoutError(\"HTTPSConnectionPool(host='pypi.org', port=443): Read timed out. (read timeout=15)\")': /simple/smart-open/\u001b[0m\n",
      "Collecting smart-open>=1.8.1\n",
      "  Downloading smart_open-5.2.1-py3-none-any.whl (58 kB)\n",
      "\u001b[K     |████████████████████████████████| 58 kB 57 kB/s eta 0:00:01\n",
      "\u001b[?25hRequirement already satisfied: numpy>=1.17.0 in /opt/anaconda3/lib/python3.7/site-packages (from gensim) (1.18.1)\n",
      "Installing collected packages: smart-open, gensim\n",
      "Successfully installed gensim-4.1.2 smart-open-5.2.1\n"
     ]
    }
   ],
   "source": [
    "!pip install gensim"
   ]
  },
  {
   "cell_type": "code",
   "execution_count": 8,
   "metadata": {},
   "outputs": [],
   "source": [
    "import matplotlib.pyplot as plt\n",
    "import re\n",
    "import os\n",
    "import pandas as pd\n",
    "import numpy as np\n",
    "\n",
    "import nltk\n",
    "from nltk.tokenize import word_tokenize\n",
    "from nltk import PorterStemmer\n",
    "from nltk import WordNetLemmatizer\n",
    "from nltk.corpus import stopwords\n",
    "\n",
    "from sklearn.feature_extraction.text import CountVectorizer\n",
    "from sklearn.model_selection import train_test_split\n",
    "from sklearn.feature_extraction.text import TfidfVectorizer\n",
    "from sklearn import metrics\n",
    "#from sklearn import confusion_matrix\n",
    "import gensim"
   ]
  },
  {
   "cell_type": "code",
   "execution_count": 10,
   "metadata": {},
   "outputs": [
    {
     "data": {
      "application/javascript": [
       "\n",
       "        if (window._pyforest_update_imports_cell) { window._pyforest_update_imports_cell('import pandas as pd'); }\n",
       "    "
      ],
      "text/plain": [
       "<IPython.core.display.Javascript object>"
      ]
     },
     "metadata": {},
     "output_type": "display_data"
    }
   ],
   "source": [
    "df = pd.read_csv('/Users/brianrochford/Downloads/MovieReview-Sample.csv', header = None, names = ['Text', 'label'])"
   ]
  },
  {
   "cell_type": "code",
   "execution_count": 117,
   "metadata": {},
   "outputs": [],
   "source": [
    "df = pd.read_table(\"/Users/brianrochford/Downloads/MovieReview-Sample.csv\",header = None, names = ['Text', 'label'])\n"
   ]
  },
  {
   "cell_type": "code",
   "execution_count": 118,
   "metadata": {},
   "outputs": [
    {
     "data": {
      "text/html": [
       "<div>\n",
       "<style scoped>\n",
       "    .dataframe tbody tr th:only-of-type {\n",
       "        vertical-align: middle;\n",
       "    }\n",
       "\n",
       "    .dataframe tbody tr th {\n",
       "        vertical-align: top;\n",
       "    }\n",
       "\n",
       "    .dataframe thead th {\n",
       "        text-align: right;\n",
       "    }\n",
       "</style>\n",
       "<table border=\"1\" class=\"dataframe\">\n",
       "  <thead>\n",
       "    <tr style=\"text-align: right;\">\n",
       "      <th></th>\n",
       "      <th>Text</th>\n",
       "      <th>label</th>\n",
       "    </tr>\n",
       "  </thead>\n",
       "  <tbody>\n",
       "    <tr>\n",
       "      <th>0</th>\n",
       "      <td>1,\"films adapted from comic books have had ple...</td>\n",
       "      <td>NaN</td>\n",
       "    </tr>\n",
       "    <tr>\n",
       "      <th>1</th>\n",
       "      <td>2,\"every now and then a movie comes along from...</td>\n",
       "      <td>NaN</td>\n",
       "    </tr>\n",
       "    <tr>\n",
       "      <th>2</th>\n",
       "      <td>3,\"you've got mail works alot better than it d...</td>\n",
       "      <td>NaN</td>\n",
       "    </tr>\n",
       "    <tr>\n",
       "      <th>3</th>\n",
       "      <td>4,\"  jaws   is a rare film that grabs your att...</td>\n",
       "      <td>NaN</td>\n",
       "    </tr>\n",
       "    <tr>\n",
       "      <th>4</th>\n",
       "      <td>5,\"moviemaking is a lot like being the general...</td>\n",
       "      <td>NaN</td>\n",
       "    </tr>\n",
       "    <tr>\n",
       "      <th>...</th>\n",
       "      <td>...</td>\n",
       "      <td>...</td>\n",
       "    </tr>\n",
       "    <tr>\n",
       "      <th>1995</th>\n",
       "      <td>1996,\"if anything ,   stigmata   should be tak...</td>\n",
       "      <td>NaN</td>\n",
       "    </tr>\n",
       "    <tr>\n",
       "      <th>1996</th>\n",
       "      <td>1997,\"john boorman's   zardoz   is a goofy cin...</td>\n",
       "      <td>NaN</td>\n",
       "    </tr>\n",
       "    <tr>\n",
       "      <th>1997</th>\n",
       "      <td>1998,\"the kids in the hall are an acquired tas...</td>\n",
       "      <td>NaN</td>\n",
       "    </tr>\n",
       "    <tr>\n",
       "      <th>1998</th>\n",
       "      <td>1999,\"there was a time when john carpenter was...</td>\n",
       "      <td>NaN</td>\n",
       "    </tr>\n",
       "    <tr>\n",
       "      <th>1999</th>\n",
       "      <td>2000,\"two party guys bob their heads to haddaw...</td>\n",
       "      <td>NaN</td>\n",
       "    </tr>\n",
       "  </tbody>\n",
       "</table>\n",
       "<p>2000 rows × 2 columns</p>\n",
       "</div>"
      ],
      "text/plain": [
       "                                                   Text  label\n",
       "0     1,\"films adapted from comic books have had ple...    NaN\n",
       "1     2,\"every now and then a movie comes along from...    NaN\n",
       "2     3,\"you've got mail works alot better than it d...    NaN\n",
       "3     4,\"  jaws   is a rare film that grabs your att...    NaN\n",
       "4     5,\"moviemaking is a lot like being the general...    NaN\n",
       "...                                                 ...    ...\n",
       "1995  1996,\"if anything ,   stigmata   should be tak...    NaN\n",
       "1996  1997,\"john boorman's   zardoz   is a goofy cin...    NaN\n",
       "1997  1998,\"the kids in the hall are an acquired tas...    NaN\n",
       "1998  1999,\"there was a time when john carpenter was...    NaN\n",
       "1999  2000,\"two party guys bob their heads to haddaw...    NaN\n",
       "\n",
       "[2000 rows x 2 columns]"
      ]
     },
     "execution_count": 118,
     "metadata": {},
     "output_type": "execute_result"
    }
   ],
   "source": [
    "df"
   ]
  },
  {
   "cell_type": "code",
   "execution_count": 98,
   "metadata": {},
   "outputs": [
    {
     "name": "stderr",
     "output_type": "stream",
     "text": [
      "[nltk_data] Downloading package opinion_lexicon to\n",
      "[nltk_data]     /Users/brianrochford/nltk_data...\n",
      "[nltk_data]   Package opinion_lexicon is already up-to-date!\n"
     ]
    },
    {
     "data": {
      "text/plain": [
       "True"
      ]
     },
     "execution_count": 98,
     "metadata": {},
     "output_type": "execute_result"
    }
   ],
   "source": [
    "import nltk\n",
    "nltk.download(\"opinion_lexicon\")"
   ]
  },
  {
   "cell_type": "markdown",
   "metadata": {},
   "source": [
    "## Word processing"
   ]
  },
  {
   "cell_type": "code",
   "execution_count": 119,
   "metadata": {},
   "outputs": [],
   "source": [
    "# remove non alphabets\n",
    "remove_non_alphabets = lambda x: re.sub(r'[^a-zA-Z]',' ',x)\n",
    "\n",
    "# tokenn alphabets-only list\n",
    "tokenize = lambda x: word_tokenize(x)\n",
    "\n",
    "# assign ps to a lambda function to run on each line of value\n",
    "ps = PorterStemmer()\n",
    "stem = lambda w: [ ps.stem(x) for x in w ]\n",
    "\n",
    "# assign lemmatizer to a lambda function to run on each line of value\n",
    "lemmatizer = WordNetLemmatizer()\n",
    "leammtizer = lambda x: [ lemmatizer.lemmatize(word) for word in x ]"
   ]
  },
  {
   "cell_type": "code",
   "execution_count": 120,
   "metadata": {},
   "outputs": [
    {
     "name": "stdout",
     "output_type": "stream",
     "text": [
      "Processing : [=====] : Completed"
     ]
    },
    {
     "data": {
      "text/html": [
       "<div>\n",
       "<style scoped>\n",
       "    .dataframe tbody tr th:only-of-type {\n",
       "        vertical-align: middle;\n",
       "    }\n",
       "\n",
       "    .dataframe tbody tr th {\n",
       "        vertical-align: top;\n",
       "    }\n",
       "\n",
       "    .dataframe thead th {\n",
       "        text-align: right;\n",
       "    }\n",
       "</style>\n",
       "<table border=\"1\" class=\"dataframe\">\n",
       "  <thead>\n",
       "    <tr style=\"text-align: right;\">\n",
       "      <th></th>\n",
       "      <th>Text</th>\n",
       "      <th>label</th>\n",
       "    </tr>\n",
       "  </thead>\n",
       "  <tbody>\n",
       "    <tr>\n",
       "      <th>0</th>\n",
       "      <td>film adapt from comic book have had plenti of ...</td>\n",
       "      <td>NaN</td>\n",
       "    </tr>\n",
       "    <tr>\n",
       "      <th>1</th>\n",
       "      <td>everi now and then a movi come along from a su...</td>\n",
       "      <td>NaN</td>\n",
       "    </tr>\n",
       "    <tr>\n",
       "      <th>2</th>\n",
       "      <td>you ve got mail work alot better than it deser...</td>\n",
       "      <td>NaN</td>\n",
       "    </tr>\n",
       "    <tr>\n",
       "      <th>3</th>\n",
       "      <td>jaw is a rare film that grab your attent befor...</td>\n",
       "      <td>NaN</td>\n",
       "    </tr>\n",
       "    <tr>\n",
       "      <th>4</th>\n",
       "      <td>moviemak is a lot like be the gener manag of a...</td>\n",
       "      <td>NaN</td>\n",
       "    </tr>\n",
       "  </tbody>\n",
       "</table>\n",
       "</div>"
      ],
      "text/plain": [
       "                                                Text  label\n",
       "0  film adapt from comic book have had plenti of ...    NaN\n",
       "1  everi now and then a movi come along from a su...    NaN\n",
       "2  you ve got mail work alot better than it deser...    NaN\n",
       "3  jaw is a rare film that grab your attent befor...    NaN\n",
       "4  moviemak is a lot like be the gener manag of a...    NaN"
      ]
     },
     "execution_count": 120,
     "metadata": {},
     "output_type": "execute_result"
    }
   ],
   "source": [
    "# apply all above methods to the column ''\n",
    "print('Processing : [=', end='')\n",
    "df['Text'] = df['Text'].apply(remove_non_alphabets)\n",
    "print('=', end='')\n",
    "df['Text'] = df['Text'].apply(tokenize)\n",
    "print('=', end='')\n",
    "df['Text'] = df['Text'].apply(stem)\n",
    "print('=', end='')\n",
    "df['Text'] = df['Text'].apply(leammtizer)\n",
    "print('=', end='')\n",
    "df['Text'] = df['Text'].apply(lambda x: ' '.join(x))\n",
    "print('] : Completed', end='')\n",
    "df.head()"
   ]
  },
  {
   "cell_type": "code",
   "execution_count": 6,
   "metadata": {},
   "outputs": [],
   "source": [
    "from nltk.corpus import opinion_lexicon\n"
   ]
  },
  {
   "cell_type": "code",
   "execution_count": 108,
   "metadata": {},
   "outputs": [],
   "source": [
    "pos_list_BL = set(opinion_lexicon.positive())\n",
    "neg_list_BL=set(opinion_lexicon.negative())"
   ]
  },
  {
   "cell_type": "code",
   "execution_count": 128,
   "metadata": {},
   "outputs": [],
   "source": [
    "df2 = df"
   ]
  },
  {
   "cell_type": "code",
   "execution_count": 129,
   "metadata": {},
   "outputs": [],
   "source": [
    "data = df.Text.str.lower()\n",
    "data2 = df2.Text.str.lower()"
   ]
  },
  {
   "cell_type": "code",
   "execution_count": 110,
   "metadata": {},
   "outputs": [],
   "source": [
    "df['Text'] = df.Text.str.lower()"
   ]
  },
  {
   "cell_type": "code",
   "execution_count": 111,
   "metadata": {},
   "outputs": [
    {
     "data": {
      "text/plain": [
       "1       film adapt from comic book have had plenti of ...\n",
       "2       everi now and then a movi come along from a su...\n",
       "3       you ve got mail work alot better than it deser...\n",
       "4       jaw is a rare film that grab your attent befor...\n",
       "5       moviemak is a lot like be the gener manag of a...\n",
       "                              ...                        \n",
       "1996    if anyth stigma should be taken a a warn again...\n",
       "1997    john boorman s zardoz is a goofi cinemat debac...\n",
       "1998    the kid in the hall are an acquir tast it took...\n",
       "1999    there wa a time when john carpent wa a great h...\n",
       "2000    two parti guy bob their head to haddaway s dan...\n",
       "Name: Text, Length: 2000, dtype: object"
      ]
     },
     "execution_count": 111,
     "metadata": {},
     "output_type": "execute_result"
    }
   ],
   "source": [
    "df['Text']\n"
   ]
  },
  {
   "cell_type": "code",
   "execution_count": 107,
   "metadata": {},
   "outputs": [
    {
     "data": {
      "text/plain": [
       "1       film adapt from comic book have had plenti of ...\n",
       "2       everi now and then a movi come along from a su...\n",
       "3       you ve got mail work alot better than it deser...\n",
       "4       jaw is a rare film that grab your attent befor...\n",
       "5       moviemak is a lot like be the gener manag of a...\n",
       "                              ...                        \n",
       "1996    if anyth stigma should be taken a a warn again...\n",
       "1997    john boorman s zardoz is a goofi cinemat debac...\n",
       "1998    the kid in the hall are an acquir tast it took...\n",
       "1999    there wa a time when john carpent wa a great h...\n",
       "2000    two parti guy bob their head to haddaway s dan...\n",
       "Name: Text, Length: 2000, dtype: object"
      ]
     },
     "execution_count": 107,
     "metadata": {},
     "output_type": "execute_result"
    }
   ],
   "source": [
    "data"
   ]
  },
  {
   "cell_type": "markdown",
   "metadata": {},
   "source": [
    "## Dictionary Function"
   ]
  },
  {
   "cell_type": "code",
   "execution_count": 122,
   "metadata": {},
   "outputs": [],
   "source": [
    "def count_pos_neg(data, positive_dict, negative_dict):\n",
    "# count of positive and negative words that appeared in each message\n",
    "# net count which is calculated by positive count subtracting negative count. \n",
    "    poscnt = []\n",
    "    negcnt = []\n",
    "    netcnt = []\n",
    "\n",
    "    for nrow in range(0,len(data)):\n",
    "        text = data[nrow]\n",
    "        \n",
    "        qa = 0\n",
    "        qb = 0\n",
    "\n",
    "        for word in positive_dict :\n",
    "            if (word in text) :\n",
    "                qa = qa + 1\n",
    "\n",
    "        for word in negative_dict :\n",
    "            if (word in text) :\n",
    "                qb = qb + 1\n",
    "\n",
    "        qc = qa - qb\n",
    "\n",
    "        poscnt.append(qa)\n",
    "        negcnt.append(qb)\n",
    "        netcnt.append(qc)\n",
    "\n",
    "    return (poscnt, negcnt, netcnt)"
   ]
  },
  {
   "cell_type": "markdown",
   "metadata": {},
   "source": [
    "## Bing Liu Dictionary"
   ]
  },
  {
   "cell_type": "code",
   "execution_count": 115,
   "metadata": {},
   "outputs": [
    {
     "data": {
      "text/plain": [
       "1       1\n",
       "2       1\n",
       "3       1\n",
       "4       1\n",
       "5       1\n",
       "       ..\n",
       "1996    0\n",
       "1997    0\n",
       "1998    0\n",
       "1999    0\n",
       "2000    0\n",
       "Name: label, Length: 2000, dtype: int64"
      ]
     },
     "execution_count": 115,
     "metadata": {},
     "output_type": "execute_result"
    }
   ],
   "source": [
    "df.iloc[:,1]"
   ]
  },
  {
   "cell_type": "code",
   "execution_count": 123,
   "metadata": {},
   "outputs": [],
   "source": [
    "df['poscnt_BL'], df['negcnt_BL'], df['netcnt_BL'] = count_pos_neg(data, pos_list_BL, neg_list_BL)"
   ]
  },
  {
   "cell_type": "code",
   "execution_count": 124,
   "metadata": {},
   "outputs": [
    {
     "data": {
      "text/html": [
       "<div>\n",
       "<style scoped>\n",
       "    .dataframe tbody tr th:only-of-type {\n",
       "        vertical-align: middle;\n",
       "    }\n",
       "\n",
       "    .dataframe tbody tr th {\n",
       "        vertical-align: top;\n",
       "    }\n",
       "\n",
       "    .dataframe thead th {\n",
       "        text-align: right;\n",
       "    }\n",
       "</style>\n",
       "<table border=\"1\" class=\"dataframe\">\n",
       "  <thead>\n",
       "    <tr style=\"text-align: right;\">\n",
       "      <th></th>\n",
       "      <th>Text</th>\n",
       "      <th>label</th>\n",
       "      <th>poscnt_BL</th>\n",
       "      <th>negcnt_BL</th>\n",
       "      <th>netcnt_BL</th>\n",
       "    </tr>\n",
       "  </thead>\n",
       "  <tbody>\n",
       "    <tr>\n",
       "      <th>0</th>\n",
       "      <td>film adapt from comic book have had plenti of ...</td>\n",
       "      <td>NaN</td>\n",
       "      <td>12</td>\n",
       "      <td>24</td>\n",
       "      <td>-12</td>\n",
       "    </tr>\n",
       "    <tr>\n",
       "      <th>1</th>\n",
       "      <td>everi now and then a movi come along from a su...</td>\n",
       "      <td>NaN</td>\n",
       "      <td>10</td>\n",
       "      <td>25</td>\n",
       "      <td>-15</td>\n",
       "    </tr>\n",
       "    <tr>\n",
       "      <th>2</th>\n",
       "      <td>you ve got mail work alot better than it deser...</td>\n",
       "      <td>NaN</td>\n",
       "      <td>19</td>\n",
       "      <td>14</td>\n",
       "      <td>5</td>\n",
       "    </tr>\n",
       "    <tr>\n",
       "      <th>3</th>\n",
       "      <td>jaw is a rare film that grab your attent befor...</td>\n",
       "      <td>NaN</td>\n",
       "      <td>10</td>\n",
       "      <td>22</td>\n",
       "      <td>-12</td>\n",
       "    </tr>\n",
       "    <tr>\n",
       "      <th>4</th>\n",
       "      <td>moviemak is a lot like be the gener manag of a...</td>\n",
       "      <td>NaN</td>\n",
       "      <td>13</td>\n",
       "      <td>19</td>\n",
       "      <td>-6</td>\n",
       "    </tr>\n",
       "    <tr>\n",
       "      <th>...</th>\n",
       "      <td>...</td>\n",
       "      <td>...</td>\n",
       "      <td>...</td>\n",
       "      <td>...</td>\n",
       "      <td>...</td>\n",
       "    </tr>\n",
       "    <tr>\n",
       "      <th>1995</th>\n",
       "      <td>if anyth stigma should be taken a a warn again...</td>\n",
       "      <td>NaN</td>\n",
       "      <td>7</td>\n",
       "      <td>28</td>\n",
       "      <td>-21</td>\n",
       "    </tr>\n",
       "    <tr>\n",
       "      <th>1996</th>\n",
       "      <td>john boorman s zardoz is a goofi cinemat debac...</td>\n",
       "      <td>NaN</td>\n",
       "      <td>13</td>\n",
       "      <td>15</td>\n",
       "      <td>-2</td>\n",
       "    </tr>\n",
       "    <tr>\n",
       "      <th>1997</th>\n",
       "      <td>the kid in the hall are an acquir tast it took...</td>\n",
       "      <td>NaN</td>\n",
       "      <td>12</td>\n",
       "      <td>14</td>\n",
       "      <td>-2</td>\n",
       "    </tr>\n",
       "    <tr>\n",
       "      <th>1998</th>\n",
       "      <td>there wa a time when john carpent wa a great h...</td>\n",
       "      <td>NaN</td>\n",
       "      <td>14</td>\n",
       "      <td>25</td>\n",
       "      <td>-11</td>\n",
       "    </tr>\n",
       "    <tr>\n",
       "      <th>1999</th>\n",
       "      <td>two parti guy bob their head to haddaway s dan...</td>\n",
       "      <td>NaN</td>\n",
       "      <td>12</td>\n",
       "      <td>25</td>\n",
       "      <td>-13</td>\n",
       "    </tr>\n",
       "  </tbody>\n",
       "</table>\n",
       "<p>2000 rows × 5 columns</p>\n",
       "</div>"
      ],
      "text/plain": [
       "                                                   Text  label  poscnt_BL  \\\n",
       "0     film adapt from comic book have had plenti of ...    NaN         12   \n",
       "1     everi now and then a movi come along from a su...    NaN         10   \n",
       "2     you ve got mail work alot better than it deser...    NaN         19   \n",
       "3     jaw is a rare film that grab your attent befor...    NaN         10   \n",
       "4     moviemak is a lot like be the gener manag of a...    NaN         13   \n",
       "...                                                 ...    ...        ...   \n",
       "1995  if anyth stigma should be taken a a warn again...    NaN          7   \n",
       "1996  john boorman s zardoz is a goofi cinemat debac...    NaN         13   \n",
       "1997  the kid in the hall are an acquir tast it took...    NaN         12   \n",
       "1998  there wa a time when john carpent wa a great h...    NaN         14   \n",
       "1999  two parti guy bob their head to haddaway s dan...    NaN         12   \n",
       "\n",
       "      negcnt_BL  netcnt_BL  \n",
       "0            24        -12  \n",
       "1            25        -15  \n",
       "2            14          5  \n",
       "3            22        -12  \n",
       "4            19         -6  \n",
       "...         ...        ...  \n",
       "1995         28        -21  \n",
       "1996         15         -2  \n",
       "1997         14         -2  \n",
       "1998         25        -11  \n",
       "1999         25        -13  \n",
       "\n",
       "[2000 rows x 5 columns]"
      ]
     },
     "execution_count": 124,
     "metadata": {},
     "output_type": "execute_result"
    }
   ],
   "source": [
    "df"
   ]
  },
  {
   "cell_type": "code",
   "execution_count": 25,
   "metadata": {},
   "outputs": [],
   "source": [
    "df.to_csv('textAnalyticsHw2.csv')"
   ]
  },
  {
   "cell_type": "markdown",
   "metadata": {},
   "source": [
    "## LM Dictionary"
   ]
  },
  {
   "cell_type": "code",
   "execution_count": 125,
   "metadata": {},
   "outputs": [],
   "source": [
    "def read_local_dictionary(file):\n",
    "    # create dictionary list\n",
    "    words_dict = []\n",
    "    with open(file, \"r\") as f: \n",
    "        for line in f:\n",
    "            t = line.strip().lower()\n",
    "            words_dict.append(t)\n",
    "    return words_dict"
   ]
  },
  {
   "cell_type": "code",
   "execution_count": 126,
   "metadata": {},
   "outputs": [],
   "source": [
    "pos_list_LM = read_local_dictionary('/Users/brianrochford/Downloads/positive-words-LM.txt')\n",
    "neg_list_LM = read_local_dictionary('/Users/brianrochford/Downloads/negative-words-LM.txt')"
   ]
  },
  {
   "cell_type": "code",
   "execution_count": 130,
   "metadata": {},
   "outputs": [],
   "source": [
    "df2['poscnt_LM'], df2['negcnt_LM'], df2['netcnt_LM'] = count_pos_neg(data2, pos_list_LM, neg_list_LM)"
   ]
  },
  {
   "cell_type": "code",
   "execution_count": 131,
   "metadata": {},
   "outputs": [
    {
     "data": {
      "text/html": [
       "<div>\n",
       "<style scoped>\n",
       "    .dataframe tbody tr th:only-of-type {\n",
       "        vertical-align: middle;\n",
       "    }\n",
       "\n",
       "    .dataframe tbody tr th {\n",
       "        vertical-align: top;\n",
       "    }\n",
       "\n",
       "    .dataframe thead th {\n",
       "        text-align: right;\n",
       "    }\n",
       "</style>\n",
       "<table border=\"1\" class=\"dataframe\">\n",
       "  <thead>\n",
       "    <tr style=\"text-align: right;\">\n",
       "      <th></th>\n",
       "      <th>Text</th>\n",
       "      <th>poscnt_LM</th>\n",
       "      <th>negcnt_LM</th>\n",
       "      <th>netcnt_LM</th>\n",
       "    </tr>\n",
       "  </thead>\n",
       "  <tbody>\n",
       "    <tr>\n",
       "      <th>0</th>\n",
       "      <td>film adapt from comic book have had plenti of ...</td>\n",
       "      <td>3</td>\n",
       "      <td>6</td>\n",
       "      <td>-3</td>\n",
       "    </tr>\n",
       "    <tr>\n",
       "      <th>1</th>\n",
       "      <td>everi now and then a movi come along from a su...</td>\n",
       "      <td>3</td>\n",
       "      <td>6</td>\n",
       "      <td>-3</td>\n",
       "    </tr>\n",
       "    <tr>\n",
       "      <th>2</th>\n",
       "      <td>you ve got mail work alot better than it deser...</td>\n",
       "      <td>8</td>\n",
       "      <td>5</td>\n",
       "      <td>3</td>\n",
       "    </tr>\n",
       "    <tr>\n",
       "      <th>3</th>\n",
       "      <td>jaw is a rare film that grab your attent befor...</td>\n",
       "      <td>2</td>\n",
       "      <td>8</td>\n",
       "      <td>-6</td>\n",
       "    </tr>\n",
       "    <tr>\n",
       "      <th>4</th>\n",
       "      <td>moviemak is a lot like be the gener manag of a...</td>\n",
       "      <td>0</td>\n",
       "      <td>4</td>\n",
       "      <td>-4</td>\n",
       "    </tr>\n",
       "  </tbody>\n",
       "</table>\n",
       "</div>"
      ],
      "text/plain": [
       "                                                Text  poscnt_LM  negcnt_LM  \\\n",
       "0  film adapt from comic book have had plenti of ...          3          6   \n",
       "1  everi now and then a movi come along from a su...          3          6   \n",
       "2  you ve got mail work alot better than it deser...          8          5   \n",
       "3  jaw is a rare film that grab your attent befor...          2          8   \n",
       "4  moviemak is a lot like be the gener manag of a...          0          4   \n",
       "\n",
       "   netcnt_LM  \n",
       "0         -3  \n",
       "1         -3  \n",
       "2          3  \n",
       "3         -6  \n",
       "4         -4  "
      ]
     },
     "execution_count": 131,
     "metadata": {},
     "output_type": "execute_result"
    }
   ],
   "source": [
    "df2[['Text','poscnt_LM','negcnt_LM','netcnt_LM']].head(5)"
   ]
  },
  {
   "cell_type": "markdown",
   "metadata": {},
   "source": [
    "## TextBlob"
   ]
  },
  {
   "cell_type": "code",
   "execution_count": 44,
   "metadata": {},
   "outputs": [],
   "source": [
    "from textblob import TextBlob"
   ]
  },
  {
   "cell_type": "code",
   "execution_count": 132,
   "metadata": {},
   "outputs": [],
   "source": [
    "df2[\"score_TextBlob\"] = df2[\"Text\"].map(lambda x:TextBlob(x).sentiment.polarity)\n",
    "\n",
    "\n"
   ]
  },
  {
   "cell_type": "code",
   "execution_count": 133,
   "metadata": {},
   "outputs": [
    {
     "data": {
      "text/html": [
       "<div>\n",
       "<style scoped>\n",
       "    .dataframe tbody tr th:only-of-type {\n",
       "        vertical-align: middle;\n",
       "    }\n",
       "\n",
       "    .dataframe tbody tr th {\n",
       "        vertical-align: top;\n",
       "    }\n",
       "\n",
       "    .dataframe thead th {\n",
       "        text-align: right;\n",
       "    }\n",
       "</style>\n",
       "<table border=\"1\" class=\"dataframe\">\n",
       "  <thead>\n",
       "    <tr style=\"text-align: right;\">\n",
       "      <th></th>\n",
       "      <th>Text</th>\n",
       "      <th>score_TextBlob</th>\n",
       "    </tr>\n",
       "  </thead>\n",
       "  <tbody>\n",
       "    <tr>\n",
       "      <th>0</th>\n",
       "      <td>film adapt from comic book have had plenti of ...</td>\n",
       "      <td>0.029550</td>\n",
       "    </tr>\n",
       "    <tr>\n",
       "      <th>1</th>\n",
       "      <td>everi now and then a movi come along from a su...</td>\n",
       "      <td>0.240473</td>\n",
       "    </tr>\n",
       "    <tr>\n",
       "      <th>2</th>\n",
       "      <td>you ve got mail work alot better than it deser...</td>\n",
       "      <td>0.122305</td>\n",
       "    </tr>\n",
       "    <tr>\n",
       "      <th>3</th>\n",
       "      <td>jaw is a rare film that grab your attent befor...</td>\n",
       "      <td>0.176044</td>\n",
       "    </tr>\n",
       "    <tr>\n",
       "      <th>4</th>\n",
       "      <td>moviemak is a lot like be the gener manag of a...</td>\n",
       "      <td>0.134746</td>\n",
       "    </tr>\n",
       "  </tbody>\n",
       "</table>\n",
       "</div>"
      ],
      "text/plain": [
       "                                                Text  score_TextBlob\n",
       "0  film adapt from comic book have had plenti of ...        0.029550\n",
       "1  everi now and then a movi come along from a su...        0.240473\n",
       "2  you ve got mail work alot better than it deser...        0.122305\n",
       "3  jaw is a rare film that grab your attent befor...        0.176044\n",
       "4  moviemak is a lot like be the gener manag of a...        0.134746"
      ]
     },
     "execution_count": 133,
     "metadata": {},
     "output_type": "execute_result"
    }
   ],
   "source": [
    "df2[[\"Text\",\"score_TextBlob\"]].head(5)"
   ]
  },
  {
   "cell_type": "markdown",
   "metadata": {},
   "source": [
    "## Vader"
   ]
  },
  {
   "cell_type": "code",
   "execution_count": 78,
   "metadata": {},
   "outputs": [],
   "source": [
    "from vaderSentiment.vaderSentiment import SentimentIntensityAnalyzer"
   ]
  },
  {
   "cell_type": "code",
   "execution_count": 134,
   "metadata": {},
   "outputs": [],
   "source": [
    "analyzer = SentimentIntensityAnalyzer()\n",
    "scores = [analyzer.polarity_scores(sentence) for sentence in data]"
   ]
  },
  {
   "cell_type": "code",
   "execution_count": 135,
   "metadata": {},
   "outputs": [],
   "source": [
    "neg_s = [i[\"neg\"] for i in scores]\n",
    "neu_s = [i[\"neu\"] for i in scores]\n",
    "pos_s = [i[\"pos\"] for i in scores]\n",
    "compound_s = [i[\"compound\"] for i in scores]"
   ]
  },
  {
   "cell_type": "code",
   "execution_count": 136,
   "metadata": {},
   "outputs": [],
   "source": [
    "df['negscore_Vader'], df['neuscore_Vader'], df['posscore_Vader'], df['compound_Vader'] = neg_s, neu_s, pos_s, compound_s"
   ]
  },
  {
   "cell_type": "code",
   "execution_count": 137,
   "metadata": {},
   "outputs": [
    {
     "data": {
      "text/html": [
       "<div>\n",
       "<style scoped>\n",
       "    .dataframe tbody tr th:only-of-type {\n",
       "        vertical-align: middle;\n",
       "    }\n",
       "\n",
       "    .dataframe tbody tr th {\n",
       "        vertical-align: top;\n",
       "    }\n",
       "\n",
       "    .dataframe thead th {\n",
       "        text-align: right;\n",
       "    }\n",
       "</style>\n",
       "<table border=\"1\" class=\"dataframe\">\n",
       "  <thead>\n",
       "    <tr style=\"text-align: right;\">\n",
       "      <th></th>\n",
       "      <th>Text</th>\n",
       "      <th>negscore_Vader</th>\n",
       "      <th>neuscore_Vader</th>\n",
       "      <th>posscore_Vader</th>\n",
       "      <th>compound_Vader</th>\n",
       "    </tr>\n",
       "  </thead>\n",
       "  <tbody>\n",
       "    <tr>\n",
       "      <th>0</th>\n",
       "      <td>film adapt from comic book have had plenti of ...</td>\n",
       "      <td>0.121</td>\n",
       "      <td>0.803</td>\n",
       "      <td>0.076</td>\n",
       "      <td>-0.9754</td>\n",
       "    </tr>\n",
       "    <tr>\n",
       "      <th>1</th>\n",
       "      <td>everi now and then a movi come along from a su...</td>\n",
       "      <td>0.061</td>\n",
       "      <td>0.828</td>\n",
       "      <td>0.111</td>\n",
       "      <td>0.9524</td>\n",
       "    </tr>\n",
       "    <tr>\n",
       "      <th>2</th>\n",
       "      <td>you ve got mail work alot better than it deser...</td>\n",
       "      <td>0.050</td>\n",
       "      <td>0.802</td>\n",
       "      <td>0.147</td>\n",
       "      <td>0.9890</td>\n",
       "    </tr>\n",
       "    <tr>\n",
       "      <th>3</th>\n",
       "      <td>jaw is a rare film that grab your attent befor...</td>\n",
       "      <td>0.068</td>\n",
       "      <td>0.849</td>\n",
       "      <td>0.084</td>\n",
       "      <td>0.7269</td>\n",
       "    </tr>\n",
       "    <tr>\n",
       "      <th>4</th>\n",
       "      <td>moviemak is a lot like be the gener manag of a...</td>\n",
       "      <td>0.043</td>\n",
       "      <td>0.846</td>\n",
       "      <td>0.112</td>\n",
       "      <td>0.9765</td>\n",
       "    </tr>\n",
       "  </tbody>\n",
       "</table>\n",
       "</div>"
      ],
      "text/plain": [
       "                                                Text  negscore_Vader  \\\n",
       "0  film adapt from comic book have had plenti of ...           0.121   \n",
       "1  everi now and then a movi come along from a su...           0.061   \n",
       "2  you ve got mail work alot better than it deser...           0.050   \n",
       "3  jaw is a rare film that grab your attent befor...           0.068   \n",
       "4  moviemak is a lot like be the gener manag of a...           0.043   \n",
       "\n",
       "   neuscore_Vader  posscore_Vader  compound_Vader  \n",
       "0           0.803           0.076         -0.9754  \n",
       "1           0.828           0.111          0.9524  \n",
       "2           0.802           0.147          0.9890  \n",
       "3           0.849           0.084          0.7269  \n",
       "4           0.846           0.112          0.9765  "
      ]
     },
     "execution_count": 137,
     "metadata": {},
     "output_type": "execute_result"
    }
   ],
   "source": [
    "df[['Text','negscore_Vader','neuscore_Vader','posscore_Vader','compound_Vader']].head(5)\n"
   ]
  },
  {
   "cell_type": "code",
   "execution_count": 138,
   "metadata": {},
   "outputs": [],
   "source": [
    "df.to_excel(\"textAnalyticsHw2new.xlsx\")"
   ]
  },
  {
   "cell_type": "code",
   "execution_count": 2,
   "metadata": {},
   "outputs": [
    {
     "data": {
      "application/javascript": [
       "\n",
       "        if (window._pyforest_update_imports_cell) { window._pyforest_update_imports_cell('import pandas as pd'); }\n",
       "    "
      ],
      "text/plain": [
       "<IPython.core.display.Javascript object>"
      ]
     },
     "metadata": {},
     "output_type": "display_data"
    }
   ],
   "source": [
    "df_scores = pd.read_excel('textAnalyticsHw2new.xlsx')"
   ]
  },
  {
   "cell_type": "code",
   "execution_count": 30,
   "metadata": {},
   "outputs": [
    {
     "data": {
      "text/html": [
       "<div>\n",
       "<style scoped>\n",
       "    .dataframe tbody tr th:only-of-type {\n",
       "        vertical-align: middle;\n",
       "    }\n",
       "\n",
       "    .dataframe tbody tr th {\n",
       "        vertical-align: top;\n",
       "    }\n",
       "\n",
       "    .dataframe thead th {\n",
       "        text-align: right;\n",
       "    }\n",
       "</style>\n",
       "<table border=\"1\" class=\"dataframe\">\n",
       "  <thead>\n",
       "    <tr style=\"text-align: right;\">\n",
       "      <th></th>\n",
       "      <th>Unnamed: 0</th>\n",
       "      <th>Text</th>\n",
       "      <th>label</th>\n",
       "      <th>poscnt_BL</th>\n",
       "      <th>negcnt_BL</th>\n",
       "      <th>netcnt_BL</th>\n",
       "      <th>poscnt_LM</th>\n",
       "      <th>negcnt_LM</th>\n",
       "      <th>netcnt_LM</th>\n",
       "      <th>score_TextBlob</th>\n",
       "      <th>negscore_Vader</th>\n",
       "      <th>neuscore_Vader</th>\n",
       "      <th>posscore_Vader</th>\n",
       "      <th>compound_Vader</th>\n",
       "      <th>SentLabel</th>\n",
       "      <th>blobBinary</th>\n",
       "      <th>vaderBinary</th>\n",
       "      <th>blBinary</th>\n",
       "      <th>lmBinary</th>\n",
       "    </tr>\n",
       "  </thead>\n",
       "  <tbody>\n",
       "    <tr>\n",
       "      <th>0</th>\n",
       "      <td>0</td>\n",
       "      <td>film adapt from comic book have had plenti of ...</td>\n",
       "      <td>NaN</td>\n",
       "      <td>12</td>\n",
       "      <td>24</td>\n",
       "      <td>-12</td>\n",
       "      <td>3</td>\n",
       "      <td>6</td>\n",
       "      <td>-3</td>\n",
       "      <td>0.029550</td>\n",
       "      <td>0.121</td>\n",
       "      <td>0.803</td>\n",
       "      <td>0.076</td>\n",
       "      <td>-0.9754</td>\n",
       "      <td>1</td>\n",
       "      <td>1</td>\n",
       "      <td>0</td>\n",
       "      <td>0</td>\n",
       "      <td>0</td>\n",
       "    </tr>\n",
       "    <tr>\n",
       "      <th>1</th>\n",
       "      <td>1</td>\n",
       "      <td>everi now and then a movi come along from a su...</td>\n",
       "      <td>NaN</td>\n",
       "      <td>10</td>\n",
       "      <td>25</td>\n",
       "      <td>-15</td>\n",
       "      <td>3</td>\n",
       "      <td>6</td>\n",
       "      <td>-3</td>\n",
       "      <td>0.240473</td>\n",
       "      <td>0.061</td>\n",
       "      <td>0.828</td>\n",
       "      <td>0.111</td>\n",
       "      <td>0.9524</td>\n",
       "      <td>1</td>\n",
       "      <td>1</td>\n",
       "      <td>1</td>\n",
       "      <td>0</td>\n",
       "      <td>0</td>\n",
       "    </tr>\n",
       "    <tr>\n",
       "      <th>2</th>\n",
       "      <td>2</td>\n",
       "      <td>you ve got mail work alot better than it deser...</td>\n",
       "      <td>NaN</td>\n",
       "      <td>19</td>\n",
       "      <td>14</td>\n",
       "      <td>5</td>\n",
       "      <td>8</td>\n",
       "      <td>5</td>\n",
       "      <td>3</td>\n",
       "      <td>0.122305</td>\n",
       "      <td>0.050</td>\n",
       "      <td>0.802</td>\n",
       "      <td>0.147</td>\n",
       "      <td>0.9890</td>\n",
       "      <td>1</td>\n",
       "      <td>1</td>\n",
       "      <td>1</td>\n",
       "      <td>1</td>\n",
       "      <td>1</td>\n",
       "    </tr>\n",
       "    <tr>\n",
       "      <th>3</th>\n",
       "      <td>3</td>\n",
       "      <td>jaw is a rare film that grab your attent befor...</td>\n",
       "      <td>NaN</td>\n",
       "      <td>10</td>\n",
       "      <td>22</td>\n",
       "      <td>-12</td>\n",
       "      <td>2</td>\n",
       "      <td>8</td>\n",
       "      <td>-6</td>\n",
       "      <td>0.176044</td>\n",
       "      <td>0.068</td>\n",
       "      <td>0.849</td>\n",
       "      <td>0.084</td>\n",
       "      <td>0.7269</td>\n",
       "      <td>1</td>\n",
       "      <td>1</td>\n",
       "      <td>1</td>\n",
       "      <td>0</td>\n",
       "      <td>0</td>\n",
       "    </tr>\n",
       "    <tr>\n",
       "      <th>4</th>\n",
       "      <td>4</td>\n",
       "      <td>moviemak is a lot like be the gener manag of a...</td>\n",
       "      <td>NaN</td>\n",
       "      <td>13</td>\n",
       "      <td>19</td>\n",
       "      <td>-6</td>\n",
       "      <td>0</td>\n",
       "      <td>4</td>\n",
       "      <td>-4</td>\n",
       "      <td>0.134746</td>\n",
       "      <td>0.043</td>\n",
       "      <td>0.846</td>\n",
       "      <td>0.112</td>\n",
       "      <td>0.9765</td>\n",
       "      <td>1</td>\n",
       "      <td>1</td>\n",
       "      <td>1</td>\n",
       "      <td>0</td>\n",
       "      <td>0</td>\n",
       "    </tr>\n",
       "    <tr>\n",
       "      <th>...</th>\n",
       "      <td>...</td>\n",
       "      <td>...</td>\n",
       "      <td>...</td>\n",
       "      <td>...</td>\n",
       "      <td>...</td>\n",
       "      <td>...</td>\n",
       "      <td>...</td>\n",
       "      <td>...</td>\n",
       "      <td>...</td>\n",
       "      <td>...</td>\n",
       "      <td>...</td>\n",
       "      <td>...</td>\n",
       "      <td>...</td>\n",
       "      <td>...</td>\n",
       "      <td>...</td>\n",
       "      <td>...</td>\n",
       "      <td>...</td>\n",
       "      <td>...</td>\n",
       "      <td>...</td>\n",
       "    </tr>\n",
       "    <tr>\n",
       "      <th>1995</th>\n",
       "      <td>1995</td>\n",
       "      <td>if anyth stigma should be taken a a warn again...</td>\n",
       "      <td>NaN</td>\n",
       "      <td>7</td>\n",
       "      <td>28</td>\n",
       "      <td>-21</td>\n",
       "      <td>2</td>\n",
       "      <td>8</td>\n",
       "      <td>-6</td>\n",
       "      <td>-0.064632</td>\n",
       "      <td>0.112</td>\n",
       "      <td>0.835</td>\n",
       "      <td>0.053</td>\n",
       "      <td>-0.9661</td>\n",
       "      <td>0</td>\n",
       "      <td>0</td>\n",
       "      <td>0</td>\n",
       "      <td>0</td>\n",
       "      <td>0</td>\n",
       "    </tr>\n",
       "    <tr>\n",
       "      <th>1996</th>\n",
       "      <td>1996</td>\n",
       "      <td>john boorman s zardoz is a goofi cinemat debac...</td>\n",
       "      <td>NaN</td>\n",
       "      <td>13</td>\n",
       "      <td>15</td>\n",
       "      <td>-2</td>\n",
       "      <td>1</td>\n",
       "      <td>3</td>\n",
       "      <td>-2</td>\n",
       "      <td>0.107353</td>\n",
       "      <td>0.026</td>\n",
       "      <td>0.908</td>\n",
       "      <td>0.066</td>\n",
       "      <td>0.8937</td>\n",
       "      <td>0</td>\n",
       "      <td>1</td>\n",
       "      <td>1</td>\n",
       "      <td>0</td>\n",
       "      <td>0</td>\n",
       "    </tr>\n",
       "    <tr>\n",
       "      <th>1997</th>\n",
       "      <td>1997</td>\n",
       "      <td>the kid in the hall are an acquir tast it took...</td>\n",
       "      <td>NaN</td>\n",
       "      <td>12</td>\n",
       "      <td>14</td>\n",
       "      <td>-2</td>\n",
       "      <td>2</td>\n",
       "      <td>8</td>\n",
       "      <td>-6</td>\n",
       "      <td>0.202189</td>\n",
       "      <td>0.045</td>\n",
       "      <td>0.867</td>\n",
       "      <td>0.087</td>\n",
       "      <td>0.9610</td>\n",
       "      <td>0</td>\n",
       "      <td>1</td>\n",
       "      <td>1</td>\n",
       "      <td>0</td>\n",
       "      <td>0</td>\n",
       "    </tr>\n",
       "    <tr>\n",
       "      <th>1998</th>\n",
       "      <td>1998</td>\n",
       "      <td>there wa a time when john carpent wa a great h...</td>\n",
       "      <td>NaN</td>\n",
       "      <td>14</td>\n",
       "      <td>25</td>\n",
       "      <td>-11</td>\n",
       "      <td>5</td>\n",
       "      <td>10</td>\n",
       "      <td>-5</td>\n",
       "      <td>0.109127</td>\n",
       "      <td>0.117</td>\n",
       "      <td>0.764</td>\n",
       "      <td>0.119</td>\n",
       "      <td>-0.4841</td>\n",
       "      <td>0</td>\n",
       "      <td>1</td>\n",
       "      <td>0</td>\n",
       "      <td>0</td>\n",
       "      <td>0</td>\n",
       "    </tr>\n",
       "    <tr>\n",
       "      <th>1999</th>\n",
       "      <td>1999</td>\n",
       "      <td>two parti guy bob their head to haddaway s dan...</td>\n",
       "      <td>NaN</td>\n",
       "      <td>12</td>\n",
       "      <td>25</td>\n",
       "      <td>-13</td>\n",
       "      <td>2</td>\n",
       "      <td>5</td>\n",
       "      <td>-3</td>\n",
       "      <td>0.054743</td>\n",
       "      <td>0.063</td>\n",
       "      <td>0.832</td>\n",
       "      <td>0.105</td>\n",
       "      <td>0.9403</td>\n",
       "      <td>0</td>\n",
       "      <td>1</td>\n",
       "      <td>1</td>\n",
       "      <td>0</td>\n",
       "      <td>0</td>\n",
       "    </tr>\n",
       "  </tbody>\n",
       "</table>\n",
       "<p>2000 rows × 19 columns</p>\n",
       "</div>"
      ],
      "text/plain": [
       "      Unnamed: 0                                               Text  label  \\\n",
       "0              0  film adapt from comic book have had plenti of ...    NaN   \n",
       "1              1  everi now and then a movi come along from a su...    NaN   \n",
       "2              2  you ve got mail work alot better than it deser...    NaN   \n",
       "3              3  jaw is a rare film that grab your attent befor...    NaN   \n",
       "4              4  moviemak is a lot like be the gener manag of a...    NaN   \n",
       "...          ...                                                ...    ...   \n",
       "1995        1995  if anyth stigma should be taken a a warn again...    NaN   \n",
       "1996        1996  john boorman s zardoz is a goofi cinemat debac...    NaN   \n",
       "1997        1997  the kid in the hall are an acquir tast it took...    NaN   \n",
       "1998        1998  there wa a time when john carpent wa a great h...    NaN   \n",
       "1999        1999  two parti guy bob their head to haddaway s dan...    NaN   \n",
       "\n",
       "      poscnt_BL  negcnt_BL  netcnt_BL  poscnt_LM  negcnt_LM  netcnt_LM  \\\n",
       "0            12         24        -12          3          6         -3   \n",
       "1            10         25        -15          3          6         -3   \n",
       "2            19         14          5          8          5          3   \n",
       "3            10         22        -12          2          8         -6   \n",
       "4            13         19         -6          0          4         -4   \n",
       "...         ...        ...        ...        ...        ...        ...   \n",
       "1995          7         28        -21          2          8         -6   \n",
       "1996         13         15         -2          1          3         -2   \n",
       "1997         12         14         -2          2          8         -6   \n",
       "1998         14         25        -11          5         10         -5   \n",
       "1999         12         25        -13          2          5         -3   \n",
       "\n",
       "      score_TextBlob  negscore_Vader  neuscore_Vader  posscore_Vader  \\\n",
       "0           0.029550           0.121           0.803           0.076   \n",
       "1           0.240473           0.061           0.828           0.111   \n",
       "2           0.122305           0.050           0.802           0.147   \n",
       "3           0.176044           0.068           0.849           0.084   \n",
       "4           0.134746           0.043           0.846           0.112   \n",
       "...              ...             ...             ...             ...   \n",
       "1995       -0.064632           0.112           0.835           0.053   \n",
       "1996        0.107353           0.026           0.908           0.066   \n",
       "1997        0.202189           0.045           0.867           0.087   \n",
       "1998        0.109127           0.117           0.764           0.119   \n",
       "1999        0.054743           0.063           0.832           0.105   \n",
       "\n",
       "      compound_Vader  SentLabel blobBinary vaderBinary blBinary lmBinary  \n",
       "0            -0.9754          1          1           0        0        0  \n",
       "1             0.9524          1          1           1        0        0  \n",
       "2             0.9890          1          1           1        1        1  \n",
       "3             0.7269          1          1           1        0        0  \n",
       "4             0.9765          1          1           1        0        0  \n",
       "...              ...        ...        ...         ...      ...      ...  \n",
       "1995         -0.9661          0          0           0        0        0  \n",
       "1996          0.8937          0          1           1        0        0  \n",
       "1997          0.9610          0          1           1        0        0  \n",
       "1998         -0.4841          0          1           0        0        0  \n",
       "1999          0.9403          0          1           1        0        0  \n",
       "\n",
       "[2000 rows x 19 columns]"
      ]
     },
     "execution_count": 30,
     "metadata": {},
     "output_type": "execute_result"
    }
   ],
   "source": [
    "df_scores"
   ]
  },
  {
   "cell_type": "markdown",
   "metadata": {},
   "source": [
    "## TextBlob precision calculation"
   ]
  },
  {
   "cell_type": "code",
   "execution_count": 3,
   "metadata": {},
   "outputs": [],
   "source": [
    "df_scores['blobBinary'] = ''\n",
    "df_scores.loc[df_scores.score_TextBlob > 0, 'blobBinary'] = 1\n",
    "df_scores.loc[df_scores.score_TextBlob <= 0, 'blobBinary'] = 0\n",
    "\n",
    "knownResult = df_scores.SentLabel.tolist()\n",
    "textBlobResult = df_scores.blobBinary.tolist()"
   ]
  },
  {
   "cell_type": "code",
   "execution_count": 4,
   "metadata": {},
   "outputs": [],
   "source": [
    "knownResult = df_scores.SentLabel.tolist()\n",
    "textBlobResult = df_scores.blobBinary.tolist()"
   ]
  },
  {
   "cell_type": "code",
   "execution_count": 10,
   "metadata": {},
   "outputs": [],
   "source": [
    "import pyforest\n",
    "from sklearn.metrics import confusion_matrix\n",
    "from sklearn.metrics import classification_report"
   ]
  },
  {
   "cell_type": "code",
   "execution_count": 11,
   "metadata": {},
   "outputs": [
    {
     "name": "stdout",
     "output_type": "stream",
     "text": [
      "[[253 748]\n",
      " [112 887]]\n"
     ]
    }
   ],
   "source": [
    "print(confusion_matrix(knownResult, textBlobResult))"
   ]
  },
  {
   "cell_type": "code",
   "execution_count": 14,
   "metadata": {},
   "outputs": [
    {
     "name": "stdout",
     "output_type": "stream",
     "text": [
      "              precision    recall  f1-score   support\n",
      "\n",
      "           0       0.69      0.25      0.37      1001\n",
      "           1       0.54      0.89      0.67       999\n",
      "\n",
      "    accuracy                           0.57      2000\n",
      "   macro avg       0.62      0.57      0.52      2000\n",
      "weighted avg       0.62      0.57      0.52      2000\n",
      "\n"
     ]
    }
   ],
   "source": [
    "textBlobReport = (classification_report(knownResult, textBlobResult))\n",
    "print(textBlobReport)"
   ]
  },
  {
   "cell_type": "code",
   "execution_count": null,
   "metadata": {},
   "outputs": [],
   "source": []
  },
  {
   "cell_type": "code",
   "execution_count": null,
   "metadata": {},
   "outputs": [],
   "source": []
  },
  {
   "cell_type": "code",
   "execution_count": null,
   "metadata": {},
   "outputs": [],
   "source": []
  },
  {
   "cell_type": "markdown",
   "metadata": {},
   "source": [
    "## Vader Report"
   ]
  },
  {
   "cell_type": "code",
   "execution_count": 18,
   "metadata": {},
   "outputs": [],
   "source": [
    "df_scores['vaderBinary'] = ''\n",
    "df_scores.loc[df_scores.compound_Vader > 0, 'vaderBinary'] = 1\n",
    "df_scores.loc[df_scores.compound_Vader <= 0, 'vaderBinary'] = 0\n",
    "\n",
    "knownResult_v = df_scores.SentLabel.tolist()\n",
    "vaderResult = df_scores.vaderBinary.tolist()"
   ]
  },
  {
   "cell_type": "code",
   "execution_count": 19,
   "metadata": {},
   "outputs": [
    {
     "name": "stdout",
     "output_type": "stream",
     "text": [
      "[[421 580]\n",
      " [250 749]]\n"
     ]
    }
   ],
   "source": [
    "print(confusion_matrix(knownResult_v, vaderResult))"
   ]
  },
  {
   "cell_type": "code",
   "execution_count": 20,
   "metadata": {},
   "outputs": [
    {
     "name": "stdout",
     "output_type": "stream",
     "text": [
      "              precision    recall  f1-score   support\n",
      "\n",
      "           0       0.63      0.42      0.50      1001\n",
      "           1       0.56      0.75      0.64       999\n",
      "\n",
      "    accuracy                           0.58      2000\n",
      "   macro avg       0.60      0.59      0.57      2000\n",
      "weighted avg       0.60      0.58      0.57      2000\n",
      "\n"
     ]
    }
   ],
   "source": [
    "vaderReport = (classification_report(knownResult_v, vaderResult))\n",
    "print(vaderReport)"
   ]
  },
  {
   "cell_type": "markdown",
   "metadata": {},
   "source": [
    "## Bing Liu Dictionary Report"
   ]
  },
  {
   "cell_type": "code",
   "execution_count": 21,
   "metadata": {},
   "outputs": [],
   "source": [
    "df_scores['blBinary'] = ''\n",
    "df_scores.loc[df_scores.netcnt_BL > 0, 'blBinary'] = 1\n",
    "df_scores.loc[df_scores.netcnt_BL <= 0, 'blBinary'] = 0\n",
    "\n",
    "knownResult_bl = df_scores.SentLabel.tolist()\n",
    "bingLiuResult = df_scores.blBinary.tolist()"
   ]
  },
  {
   "cell_type": "code",
   "execution_count": 22,
   "metadata": {},
   "outputs": [
    {
     "name": "stdout",
     "output_type": "stream",
     "text": [
      "[[962  39]\n",
      " [894 105]]\n"
     ]
    }
   ],
   "source": [
    "print(confusion_matrix(knownResult_bl, bingLiuResult))"
   ]
  },
  {
   "cell_type": "code",
   "execution_count": 23,
   "metadata": {},
   "outputs": [
    {
     "name": "stdout",
     "output_type": "stream",
     "text": [
      "              precision    recall  f1-score   support\n",
      "\n",
      "           0       0.52      0.96      0.67      1001\n",
      "           1       0.73      0.11      0.18       999\n",
      "\n",
      "    accuracy                           0.53      2000\n",
      "   macro avg       0.62      0.53      0.43      2000\n",
      "weighted avg       0.62      0.53      0.43      2000\n",
      "\n"
     ]
    }
   ],
   "source": [
    "bingLiuReport = (classification_report(knownResult_bl, bingLiuResult))\n",
    "print(bingLiuReport)"
   ]
  },
  {
   "cell_type": "markdown",
   "metadata": {},
   "source": [
    "## LM Dictionary Report"
   ]
  },
  {
   "cell_type": "code",
   "execution_count": 24,
   "metadata": {},
   "outputs": [],
   "source": [
    "df_scores['lmBinary'] = ''\n",
    "df_scores.loc[df_scores.netcnt_LM > 0, 'lmBinary'] = 1\n",
    "df_scores.loc[df_scores.netcnt_LM <= 0, 'lmBinary'] = 0\n",
    "\n",
    "knownResult_lm = df_scores.SentLabel.tolist()\n",
    "lmResult = df_scores.lmBinary.tolist()"
   ]
  },
  {
   "cell_type": "code",
   "execution_count": 25,
   "metadata": {},
   "outputs": [
    {
     "name": "stdout",
     "output_type": "stream",
     "text": [
      "[[947  54]\n",
      " [861 138]]\n"
     ]
    }
   ],
   "source": [
    "print(confusion_matrix(knownResult_lm, lmResult))"
   ]
  },
  {
   "cell_type": "code",
   "execution_count": 26,
   "metadata": {},
   "outputs": [
    {
     "name": "stdout",
     "output_type": "stream",
     "text": [
      "              precision    recall  f1-score   support\n",
      "\n",
      "           0       0.52      0.95      0.67      1001\n",
      "           1       0.72      0.14      0.23       999\n",
      "\n",
      "    accuracy                           0.54      2000\n",
      "   macro avg       0.62      0.54      0.45      2000\n",
      "weighted avg       0.62      0.54      0.45      2000\n",
      "\n"
     ]
    }
   ],
   "source": [
    "lmReport = (classification_report(knownResult_lm, lmResult))\n",
    "print(lmReport)"
   ]
  },
  {
   "cell_type": "markdown",
   "metadata": {},
   "source": [
    "## Question 2 Ensemble"
   ]
  },
  {
   "cell_type": "code",
   "execution_count": 29,
   "metadata": {},
   "outputs": [],
   "source": [
    "from sklearn.naive_bayes import MultinomialNB # import naive bayes\n",
    "from sklearn.tree import DecisionTreeClassifier # import Decision Tree\n",
    "from sklearn.ensemble import RandomForestClassifier # import random forest"
   ]
  },
  {
   "cell_type": "markdown",
   "metadata": {},
   "source": [
    "## Ensemble Model"
   ]
  },
  {
   "cell_type": "code",
   "execution_count": 35,
   "metadata": {},
   "outputs": [],
   "source": [
    "from sklearn.ensemble import VotingClassifier\n",
    "from sklearn.model_selection import GridSearchCV"
   ]
  },
  {
   "cell_type": "code",
   "execution_count": 89,
   "metadata": {},
   "outputs": [
    {
     "name": "stderr",
     "output_type": "stream",
     "text": [
      "/opt/anaconda3/lib/python3.7/site-packages/ipykernel_launcher.py:8: SettingWithCopyWarning: \n",
      "A value is trying to be set on a copy of a slice from a DataFrame\n",
      "\n",
      "See the caveats in the documentation: https://pandas.pydata.org/pandas-docs/stable/user_guide/indexing.html#returning-a-view-versus-a-copy\n",
      "  \n",
      "/opt/anaconda3/lib/python3.7/site-packages/ipykernel_launcher.py:6: SettingWithCopyWarning: \n",
      "A value is trying to be set on a copy of a slice from a DataFrame\n",
      "\n",
      "See the caveats in the documentation: https://pandas.pydata.org/pandas-docs/stable/user_guide/indexing.html#returning-a-view-versus-a-copy\n",
      "  \n"
     ]
    }
   ],
   "source": [
    "i = 0\n",
    "df_scores['ensemble_score'] = ''\n",
    "while i < 2000:\n",
    "    sum_scores = df_scores['blobBinary'][i] + df_scores['vaderBinary'][i] + df_scores['blBinary'][i]\n",
    "    if sum_scores >= 2:\n",
    "        df_scores['ensemble_score'][i] = 1\n",
    "    elif sum_scores < 2:\n",
    "        df_scores['ensemble_score'][i] = 0\n",
    "    i = i +1\n",
    "    "
   ]
  },
  {
   "cell_type": "code",
   "execution_count": 95,
   "metadata": {},
   "outputs": [],
   "source": [
    "#df_scores"
   ]
  },
  {
   "cell_type": "code",
   "execution_count": 91,
   "metadata": {},
   "outputs": [],
   "source": [
    "knownResult_e = df_scores.SentLabel.tolist()\n",
    "ensembleResult = df_scores.ensemble_score.tolist()"
   ]
  },
  {
   "cell_type": "code",
   "execution_count": 92,
   "metadata": {},
   "outputs": [
    {
     "name": "stdout",
     "output_type": "stream",
     "text": [
      "[[490 511]\n",
      " [287 712]]\n"
     ]
    }
   ],
   "source": [
    "print(confusion_matrix(knownResult_e, ensembleResult))"
   ]
  },
  {
   "cell_type": "code",
   "execution_count": 94,
   "metadata": {},
   "outputs": [
    {
     "name": "stdout",
     "output_type": "stream",
     "text": [
      "              precision    recall  f1-score   support\n",
      "\n",
      "           0       0.63      0.49      0.55      1001\n",
      "           1       0.58      0.71      0.64       999\n",
      "\n",
      "    accuracy                           0.60      2000\n",
      "   macro avg       0.61      0.60      0.60      2000\n",
      "weighted avg       0.61      0.60      0.60      2000\n",
      "\n"
     ]
    }
   ],
   "source": [
    "ensembleReport = (classification_report(knownResult_e, ensembleResult))\n",
    "print(ensembleReport)"
   ]
  }
 ],
 "metadata": {
  "kernelspec": {
   "display_name": "Python 3",
   "language": "python",
   "name": "python3"
  },
  "language_info": {
   "codemirror_mode": {
    "name": "ipython",
    "version": 3
   },
   "file_extension": ".py",
   "mimetype": "text/x-python",
   "name": "python",
   "nbconvert_exporter": "python",
   "pygments_lexer": "ipython3",
   "version": "3.7.6"
  }
 },
 "nbformat": 4,
 "nbformat_minor": 4
}
